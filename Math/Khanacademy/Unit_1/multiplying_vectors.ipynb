{
 "cells": [
  {
   "cell_type": "code",
   "execution_count": null,
   "metadata": {},
   "outputs": [],
   "source": [
    "%pip install -r requirements.txt\n",
    "\n",
    "import numpy as np\n",
    "import matplotlib.pyplot as plt"
   ]
  },
  {
   "cell_type": "code",
   "execution_count": null,
   "metadata": {},
   "outputs": [],
   "source": [
    "def plot_add_vectors(scalar1, vec1):\n",
    "    result_vec = scalar1 * vec1\n",
    "\n",
    "\n",
    "    # Plot the vectors and their sum\n",
    "    plt.figure()\n",
    "    plt.quiver(0, 0, vec1[0], vec1[1], angles='xy', scale_units='xy', scale=1, color='r', label=\"Vector 1\")\n",
    "    plt.quiver(0, 0, result_vec[0], result_vec[1], angles='xy', scale_units='xy', scale=1, color='g', label=\"Resultant Vector\")\n",
    "\n",
    "    # Set graph limits and labels\n",
    "    plt.xlim(-1, max(result_vec[0], result_vec[1]) + 1)\n",
    "    plt.ylim(-1, max(result_vec[0], result_vec[1]) + 1)\n",
    "    plt.xlabel('X-axis')\n",
    "    plt.ylabel('Y-axis')\n",
    "\n",
    "    # Add a legend and grid\n",
    "    plt.legend()\n",
    "    plt.grid()\n",
    "\n",
    "    # Show the graph\n",
    "    plt.show()"
   ]
  },
  {
   "cell_type": "code",
   "execution_count": null,
   "metadata": {},
   "outputs": [],
   "source": [
    "scalar1 = 2\n",
    "vec1 = np.array([2, 3])\n",
    "\n",
    "\n",
    "\n"
   ]
  }
 ],
 "metadata": {
  "language_info": {
   "name": "python"
  },
  "orig_nbformat": 4
 },
 "nbformat": 4,
 "nbformat_minor": 2
}
